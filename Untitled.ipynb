{
 "cells": [
  {
   "cell_type": "code",
   "execution_count": null,
   "metadata": {},
   "outputs": [],
   "source": [
    "#Задача 1\n",
    "n = input()\n",
    "n = int(n)\n",
    "m = input()\n",
    "m = int\n",
    "if n>m :\n",
    "    print(n)\n",
    "else :\n",
    "    print(m)"
   ]
  },
  {
   "cell_type": "code",
   "execution_count": 4,
   "metadata": {},
   "outputs": [
    {
     "name": "stdout",
     "output_type": "stream",
     "text": [
      "2\n",
      "2\n",
      "0\n"
     ]
    }
   ],
   "source": [
    "#Задача 2\n",
    "n = input()\n",
    "n = int(n)\n",
    "m = input()\n",
    "m = int(m)\n",
    "if n>m :\n",
    "    print(1)\n",
    "elif m>n :\n",
    "    print(2)\n",
    "elif m==n:\n",
    "    print(0)"
   ]
  },
  {
   "cell_type": "code",
   "execution_count": 8,
   "metadata": {},
   "outputs": [
    {
     "name": "stdout",
     "output_type": "stream",
     "text": [
      "2\n",
      "1\n",
      "2\n",
      "2\n"
     ]
    }
   ],
   "source": [
    "#Задача 3\n",
    "n = input()\n",
    "n = int(n)\n",
    "m = input()\n",
    "m = int(m)\n",
    "x = input()\n",
    "x = int(x)\n",
    "if n>=m and n>=x:\n",
    "    print(n)\n",
    "elif m>=n and m>=x:\n",
    "    print(m)\n",
    "elif x>n and x>m:\n",
    "    print(x)"
   ]
  },
  {
   "cell_type": "code",
   "execution_count": 9,
   "metadata": {},
   "outputs": [
    {
     "name": "stdout",
     "output_type": "stream",
     "text": [
      "4\n",
      "Yes\n"
     ]
    }
   ],
   "source": [
    "#Задача 4\n",
    "n = input()\n",
    "n = int(n)\n",
    "if n%4==0 and n%100!=0 or n%400==0 :\n",
    "    print(\"Yes\")\n",
    "else :\n",
    "    print(\"No\")"
   ]
  },
  {
   "cell_type": "code",
   "execution_count": null,
   "metadata": {},
   "outputs": [],
   "source": [
    "#Задача 5\n",
    "x = int(input())\n",
    "y = int(input())\n",
    "i = int(input())\n",
    "j = int(input())\n",
    "if (x==i or i==x-1 or i==x+1)and(y==j or j==y-1 or j==y+1) :\n",
    "    print(\"Yes\")\n",
    "else :\n",
    "    print(\"No\")"
   ]
  },
  {
   "cell_type": "code",
   "execution_count": null,
   "metadata": {},
   "outputs": [],
   "source": [
    "#Задача 6\n",
    "x = int(iput())\n",
    "y = int(input())\n",
    "if x==1:\n",
    "    print(\"Yes\")\n",
    "elif y%(y-x+1)=0 :\n",
    "    print(\"Yes\")\n",
    "else :\n",
    "    print(\"NO\")  "
   ]
  },
  {
   "cell_type": "code",
   "execution_count": null,
   "metadata": {},
   "outputs": [],
   "source": [
    "#Задача 7\n",
    "x = int(input())\n",
    "y = int(input())\n",
    "i = int(input())\n",
    "j = int(input())\n",
    "if (x-i)%2==0 and (y-j)%2==0:\n",
    "    print(\"Yes\")\n",
    "else :\n",
    "    print(\"No\")"
   ]
  },
  {
   "cell_type": "code",
   "execution_count": null,
   "metadata": {},
   "outputs": [],
   "source": [
    "#Задача 8\n",
    "n = int(input())\n",
    "m = int(input())\n",
    "k = int(input())\n",
    "if k < n * m and ((k % n == 0) or (k % m == 0)):\n",
    "    print('YES')\n",
    "else:\n",
    "    print('NO')"
   ]
  },
  {
   "cell_type": "code",
   "execution_count": null,
   "metadata": {},
   "outputs": [],
   "source": [
    "#Задача 9\n",
    "n = int(input())\n",
    "s = \"На лугу пасется \"\n",
    "x = n%10\n",
    "if x == 1:\n",
    "    print(s+\"корова\")\n",
    "elif x==2 or x==3 or x==4:\n",
    "    print(s+\"коровы\")\n",
    "else :\n",
    "    print(s+\"коров\")"
   ]
  },
  {
   "cell_type": "code",
   "execution_count": null,
   "metadata": {},
   "outputs": [],
   "source": [
    "#Задача 10\n",
    "x = int(input())\n",
    "if x>0:\n",
    "    print(1)\n",
    "elif x==0:\n",
    "    print(0)\n",
    "else :\n",
    "    print(-1)"
   ]
  },
  {
   "cell_type": "code",
   "execution_count": null,
   "metadata": {},
   "outputs": [],
   "source": [
    "#Задача 11\n",
    "x = int(input())\n",
    "y = int(input())\n",
    "i = int(input())\n",
    "j = int(input())\n",
    "if(x>=0 and y>=0 and i>=0 and j>=0)or(x<=0 and y>=0 and i<=0 and j>=0)or(x<=0 and y<=0 and i<=0 and j<=0)or(x>=0 and y<=0 and i>=0 and j<=0):\n",
    "    print(\"Yes\")\n",
    "else:\n",
    "    print(\"No\")"
   ]
  },
  {
   "cell_type": "code",
   "execution_count": null,
   "metadata": {},
   "outputs": [],
   "source": [
    "#Задача 12\n",
    "v1=int(input ())\n",
    "g1=int(input ())\n",
    "v2=int(input ())\n",
    "g2=int(input ())\n",
    " \n",
    " \n",
    "if (g2>g1 and\n",
    "    g2-g1>=abs(v2-v1) and\n",
    "    ((v1%2==v2%2 and (g2-g1)%2==0) or (v1%2!=v2%2 and (g2-g1)%2!=0))\n",
    "    ): print ('YES')\n",
    "else: print ('NO')"
   ]
  },
  {
   "cell_type": "code",
   "execution_count": null,
   "metadata": {},
   "outputs": [],
   "source": [
    "#Задача 13\n",
    "a = int(input())\n",
    "b = int(input())\n",
    "c = int(input())\n",
    "if (c**2 == a**2 + b**2) or (a**2 == b**2 + c**2) or (b**2 == a**2 + c**2):\n",
    "    print(\"rectangular\")\n",
    "elif (c**2 < a**2 + b**2) or (a**2 < b**2 + c**2) or (b**2 < a**2 + c**2):\n",
    "    print(\"acute\")\n",
    "elif (c**2 > a**2 + b**2) or (a**2 > b**2 + c**2) or (b**2 > a**2 + c**2):\n",
    "    print(\"obtuse \")\n",
    "else:\n",
    "    print(\"impossible\")"
   ]
  },
  {
   "cell_type": "code",
   "execution_count": null,
   "metadata": {},
   "outputs": [],
   "source": [
    "#Задача 14\n",
    "a = int(input())\n",
    "b = int(input())\n",
    "c = int(input())\n",
    "chet = 0\n",
    "nechet = 0\n",
    "if a%2==0 or b%2==0 or c%2==0:\n",
    "    chet=chet+1\n",
    "elif a%2!=0 or b%2!=0 or c%2!=0:\n",
    "    nechet=nechet+1\n",
    "if nechet==2:\n",
    "    print(\"Yes\")\n",
    "else:\n",
    "    print(\"No\")"
   ]
  },
  {
   "cell_type": "code",
   "execution_count": null,
   "metadata": {},
   "outputs": [],
   "source": [
    "#Задача 15\n",
    "a = int(input())\n",
    "b = int(input())\n",
    "c = int(input())\n",
    "if a<=b and a<=c:\n",
    "    first = str(a)\n",
    "    if b<c:\n",
    "        second = str(b)\n",
    "        third = str(c)\n",
    "    else:\n",
    "        second = str(c)\n",
    "        third = str(b)  \n",
    "elif b<a and b<c:\n",
    "    first = str(b)\n",
    "    if a<c:\n",
    "        second = str(a)\n",
    "        third = str(c)\n",
    "    else:\n",
    "        second = str(c)\n",
    "        third = str(a)\n",
    "else:\n",
    "    first = str(c)\n",
    "    if a<b:\n",
    "        second = str(a)\n",
    "        third = str(b)\n",
    "    else:\n",
    "        second = str(b)\n",
    "        third = str(a)"
   ]
  },
  {
   "cell_type": "code",
   "execution_count": null,
   "metadata": {},
   "outputs": [],
   "source": [
    "#Задача 16\n",
    "a = input()\n",
    "b = input()\n",
    "c = input()\n",
    "if a==b and b==c:\n",
    "    print(a+\",\"+b+\",\"+c)\n",
    "elif a==b:\n",
    "    print(a+\",\"+b)\n",
    "elif a==c:\n",
    "    print(a+\",\"+c)\n",
    "elif b==c:\n",
    "    print(c+\",\"+b)\n",
    "else:\n",
    "    print(0)"
   ]
  },
  {
   "cell_type": "code",
   "execution_count": null,
   "metadata": {},
   "outputs": [],
   "source": [
    "#Задача 17\n",
    "a = int(input())\n",
    "b = int(input())\n",
    "c = int(input())\n",
    "d = int(input())\n",
    "e = int(input())\n",
    "if a <= d and b <= e or a <= e and b <= d:\n",
    "    print(\"YES\")\n",
    "elif c <= d and b <= e or c <= e and b <= d:\n",
    "    print(\"YES\")\n",
    "elif a <= d and c <= e or a <= e and c <= d:\n",
    "    print(\"YES\")\n",
    "else:\n",
    "    print(\"NO\")"
   ]
  },
  {
   "cell_type": "code",
   "execution_count": null,
   "metadata": {},
   "outputs": [],
   "source": [
    "#Задача 18\n",
    "A1 = int(input())  # Box 1\n",
    "B1 = int(input())\n",
    "C1 = int(input())\n",
    "A2 = int(input())  # Box 2\n",
    "B2 = int(input())\n",
    "C2 = int(input())\n",
    "if ((A1 == A2 and B1 == B2 and C1 == C2) or\n",
    "        (A1 == A2 and B1 == C2 and C1 == B2) or\n",
    "        (A1 == C2 and B1 == A2 and C1 == B2) or\n",
    "        (A1 == B2 and B1 == A2 and C1 == C2) or\n",
    "        (A1 == B2 and B1 == C2 and C1 == A2) or\n",
    "        (A1 == C2 and B1 == B2 and C1 == A2)):\n",
    "    print('Boxes are equal')\n",
    "elif ((A1 <= A2 and B1 <= B2 and C1 <= C2) or\n",
    "        (A1 <= A2 and B1 <= C2 and C1 <= B2) or\n",
    "        (A1 <= C2 and B1 <= A2 and C1 <= B2) or\n",
    "        (A1 <= B2 and B1 <= A2 and C1 <= C2) or\n",
    "        (A1 <= B2 and B1 <= C2 and C1 <= A2) or\n",
    "        (A1 <= C2 and B1 <= B2 and C1 <= A2)):\n",
    "    print('The first box is smaller than the second one')\n",
    "elif ((A1 >= A2 and B1 >= B2 and C1 >= C2) or\n",
    "        (A1 >= A2 and B1 >= C2 and C1 >= B2) or\n",
    "        (A1 >= C2 and B1 >= A2 and C1 >= B2) or\n",
    "        (A1 >= B2 and B1 >= A2 and C1 >= C2) or\n",
    "        (A1 >= B2 and B1 >= C2 and C1 >= A2) or\n",
    "        (A1 >= C2 and B1 >= B2 and C1 >= A2)):\n",
    "    print('The first box is larger than the second one')\n",
    "else:\n",
    "    print('Boxes are incomparable')"
   ]
  },
  {
   "cell_type": "code",
   "execution_count": null,
   "metadata": {},
   "outputs": [],
   "source": [
    "#Задача 19\n",
    "a1 = int(input())\n",
    "b1 = int(input())\n",
    "c1 = int(input())\n",
    "x = int(input())\n",
    "y = int(input())\n",
    "z = int(input())\n",
    " \n",
    "d1 = (a1 // x) * (b1 // y) * (c1 // z)\n",
    "d2 = (a1 // x) * (c1 // y) * (b1 // z)\n",
    "d3 = (b1 // x) * (c1 // y) * (a1 // z)\n",
    "d4 = (b1 // x) * (a1 // y) * (c1 // z)\n",
    "d5 = (c1 // x) * (a1 // y) * (b1 // z)\n",
    "d6 = (c1 // x) * (b1 // y) * (a1 // z)\n",
    " \n",
    "if d1 >= d2:\n",
    "    d2 = d1\n",
    "if d3 >= d4:\n",
    "    d4 = d2\n",
    "if d5 >= d6:\n",
    "    d6 = d5\n",
    " \n",
    "if d2 >= d4 and d2 >= d6:\n",
    "    print(d2)\n",
    "elif d4 >= d6:\n",
    "    print(d4)\n",
    "else:\n",
    "    print(d6)"
   ]
  },
  {
   "cell_type": "code",
   "execution_count": null,
   "metadata": {},
   "outputs": [],
   "source": [
    "#Задача 20\n",
    "k = int(input())\n",
    "if k%2==0 or k%5==0 or k%8==0:\n",
    "    print(\"Yes\")\n",
    "else:\n",
    "    print(\"No\")"
   ]
  },
  {
   "cell_type": "code",
   "execution_count": null,
   "metadata": {},
   "outputs": [],
   "source": [
    "#Задача 21\n",
    "a, b, c, d = int(input()), int(input()), int(input()), int(input())\n",
    "if a == 0 and b == 0:\n",
    "    print('INF')\n",
    "elif a == 0 or b * c == a * d:\n",
    "    print('NO')\n",
    "elif b % a == 0:\n",
    "    x = -b // a\n",
    "    print(x)\n",
    "else:\n",
    "    print('NO')"
   ]
  },
  {
   "cell_type": "code",
   "execution_count": null,
   "metadata": {},
   "outputs": [],
   "source": [
    "#Задача 22\n",
    "k = int(input())\n",
    "m = int(input())\n",
    "n = int(input())\n",
    "p = (2*n+k-1)//k;\n",
    "print(m * p)"
   ]
  },
  {
   "cell_type": "code",
   "execution_count": null,
   "metadata": {},
   "outputs": [],
   "source": [
    "#Задача 23\n",
    "l1 = int(input())\n",
    "r1 = int(input())\n",
    "l2 = int(input())\n",
    "r2 = int(input())\n",
    "l3 = int(input())\n",
    "r3 = int(input())\n",
    " \n",
    "if (l1 >= 0) and (l1 < r1) and (r1 <= 100) and \\\n",
    "        (l2 >= 0) and (l2 < r2) and (r2 <= 100) and \\\n",
    "        (l3 >= 0) and (l3 < r3) and (r3 <= 100):\n",
    "    if ((l2 - r1) <= 1) and ((l3-r2) > 1) and (l1 < l2) and \\\n",
    "            (l2 < r3) and (l1 < r3):\n",
    "        print(3)\n",
    "    elif ((l2-r1) > 1) and ((l3-r2) > 1) and (l2-r1) <= (r3-l3):\n",
    "        print(3)\n",
    "    elif ((l2-r1) > 1) and ((l3-r2) <= 1):\n",
    "        print(1)\n",
    "    elif ((l2-r1) <= 1) and (((l3-r2) <= 1) or ((l3-r1) <= 1)):\n",
    "        print(0)\n",
    "    else:\n",
    "        print(-1)\n",
    "else:\n",
    "    print(-1)"
   ]
  },
  {
   "cell_type": "code",
   "execution_count": null,
   "metadata": {},
   "outputs": [],
   "source": [
    "#Задача 24\n",
    "l1 = int(input())\n",
    "w1 = int(input())\n",
    "h1 = int(input())\n",
    "l2 = int(input())\n",
    "w2 = int(input())\n",
    "h2 = int(input())\n",
    "lc = int(input())\n",
    "wc = int(input())\n",
    "hc = int(input())\n",
    "if wc>=w1+w2 and lc>=l1+l2 and hc>=h1+h2:\n",
    "    print(\"Yes\")\n",
    "else:\n",
    "    print(\"No\")"
   ]
  }
 ],
 "metadata": {
  "kernelspec": {
   "display_name": "Python 3",
   "language": "python",
   "name": "python3"
  },
  "language_info": {
   "codemirror_mode": {
    "name": "ipython",
    "version": 3
   },
   "file_extension": ".py",
   "mimetype": "text/x-python",
   "name": "python",
   "nbconvert_exporter": "python",
   "pygments_lexer": "ipython3",
   "version": "3.7.6"
  }
 },
 "nbformat": 4,
 "nbformat_minor": 4
}
